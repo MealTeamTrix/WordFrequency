{
 "cells": [
  {
   "cell_type": "code",
   "execution_count": 1,
   "id": "ee5d10fc-3e4a-4235-8731-55d290ac7ba8",
   "metadata": {},
   "outputs": [
    {
     "name": "stderr",
     "output_type": "stream",
     "text": [
      "[nltk_data] Downloading package stopwords to\n",
      "[nltk_data]     /home/workbench/nltk_data...\n",
      "[nltk_data]   Unzipping corpora/stopwords.zip.\n"
     ]
    }
   ],
   "source": [
    "# Import libraries\n",
    "import requests\n",
    "from bs4 import BeautifulSoup\n",
    "import nltk\n",
    "from collections import Counter\n",
    "nltk.download('stopwords')\n",
    "from nltk.util import ngrams"
   ]
  },
  {
   "cell_type": "code",
   "execution_count": 2,
   "id": "b6b965f5-9529-4023-83f6-55f472e98ba2",
   "metadata": {},
   "outputs": [
    {
     "name": "stdout",
     "output_type": "stream",
     "text": [
      "<?xml version=\"1.0\" encoding=\"utf-8\"?>\n",
      "\n",
      "<!DOCTYPE html\n",
      "   PUBLIC \"-//W3C//DTD XHTML 1.0 Strict//EN\"\n",
      "   \"http://www.w3.org/TR/xhtml1/DTD/xhtml1-strict.dtd\" >\n",
      "\n",
      "<html xmlns=\"http://www.w3.org/1999/xhtml\" lang=\"en\">\n",
      "  <head>\n",
      "    <title>\n",
      "      Moby Dick; Or the Whale, by Herman Melville\n",
      "    </title>\n",
      "    <style type=\"text/css\" xml:space=\"preserve\">\n",
      "\n",
      "    body { background:#faebd0; color:black; margin-left:15%; margin-right:15%; text-align:justify }\n",
      "    P { text-indent: 1em; margin-top: .25em; margin-bottom: .25em; }\n",
      "    H1,H2,H3,H4,H5,H6 { text-align: center; margin-left: 15%; margin-right: 15%; }\n",
      "    hr  { width: 50%; text-align: center;}\n",
      "    .foot { margin-left: 20%; margin-right: 20%; text-align: justify; text-indent: -3em; font-size: 90%; }\n",
      "    blockquote {font-size: 100%; margin-left: 0%; margin-right: 0%;}\n",
      "    .mynote    {background-color: #DDE; color: #000; padding: .5em; margin-left: 10%; margin-right: 10%; font-family: sans-serif; font-size: 95%;}\n",
      "    .toc       {\n"
     ]
    }
   ],
   "source": [
    "# Get the URL\n",
    "r = requests.get('https://s3.amazonaws.com/assets.datacamp.com/production/project_147/datasets/2701-h.htm')\n",
    "\n",
    "# Extract the HTML\n",
    "r.encoding = 'utf-8'\n",
    "\n",
    "# Extract the HTLM from requests\n",
    "html = r.text\n",
    "\n",
    "# Print the first 1k characters\n",
    "print(html[0:1000])"
   ]
  },
  {
   "cell_type": "code",
   "execution_count": 3,
   "id": "d2ebf5b6-24ec-477c-a5ce-2836c033d178",
   "metadata": {},
   "outputs": [],
   "source": [
    "# Create a BeautifulSoup object\n",
    "html_soup = BeautifulSoup(html, 'html.parser')\n",
    "\n",
    "# Get the text out of soup object\n",
    "moby_text = html_soup.get_text()"
   ]
  },
  {
   "cell_type": "code",
   "execution_count": 4,
   "id": "ffd43d06-72a2-4067-8640-a908f7b0021f",
   "metadata": {},
   "outputs": [],
   "source": [
    "# Create a tokenizer\n",
    "tokenizer = nltk.tokenize.RegexpTokenizer('\\w+')\n",
    "\n",
    "# Tokenize the text\n",
    "tokens = tokenizer.tokenize(moby_text)"
   ]
  },
  {
   "cell_type": "code",
   "execution_count": 5,
   "id": "2b406906-bb4b-4a71-82e8-b823eaa2adb7",
   "metadata": {},
   "outputs": [
    {
     "data": {
      "text/plain": [
       "['moby',\n",
       " 'dick',\n",
       " 'or',\n",
       " 'the',\n",
       " 'whale',\n",
       " 'by',\n",
       " 'herman',\n",
       " 'melville',\n",
       " 'the',\n",
       " 'project']"
      ]
     },
     "execution_count": 5,
     "metadata": {},
     "output_type": "execute_result"
    }
   ],
   "source": [
    "# Create a list of called words containining all tokens lowercase\n",
    "words = [token.lower() for token in tokens]\n",
    "\n",
    "# Print the first ten words\n",
    "words[:10]"
   ]
  },
  {
   "cell_type": "code",
   "execution_count": 6,
   "id": "33596769-e54d-489b-8578-71691b61b26c",
   "metadata": {},
   "outputs": [
    {
     "data": {
      "text/plain": [
       "['a', 'about', 'above', 'after', 'again', 'against', 'ain', 'all', 'am', 'an']"
      ]
     },
     "execution_count": 6,
     "metadata": {},
     "output_type": "execute_result"
    }
   ],
   "source": [
    "# Get stop words\n",
    "stop_words = nltk.corpus.stopwords.words('english')\n",
    "\n",
    "# Print out first 10 stop words\n",
    "stop_words[:10]"
   ]
  },
  {
   "cell_type": "code",
   "execution_count": 7,
   "id": "da6f38b4-f7af-4efe-b4fc-012f2e348c22",
   "metadata": {},
   "outputs": [
    {
     "data": {
      "text/plain": [
       "['moby',\n",
       " 'dick',\n",
       " 'whale',\n",
       " 'herman',\n",
       " 'melville',\n",
       " 'project',\n",
       " 'gutenberg',\n",
       " 'ebook',\n",
       " 'moby',\n",
       " 'dick']"
      ]
     },
     "execution_count": 7,
     "metadata": {},
     "output_type": "execute_result"
    }
   ],
   "source": [
    "# Create a list of words and remove stop words\n",
    "words_no_stop = [word for word in words if word not in stop_words]\n",
    "\n",
    "# Print the first 10 wors\n",
    "words_no_stop[:10]"
   ]
  },
  {
   "cell_type": "code",
   "execution_count": 8,
   "id": "7a76c1c1-373a-4236-8663-57802e01d495",
   "metadata": {},
   "outputs": [
    {
     "name": "stdout",
     "output_type": "stream",
     "text": [
      "[('whale', 1246), ('one', 925), ('like', 647), ('upon', 568), ('man', 527), ('ship', 519), ('ahab', 517), ('ye', 473), ('sea', 455), ('old', 452)]\n"
     ]
    }
   ],
   "source": [
    "# Create a Counter object\n",
    "count = Counter(words_no_stop)\n",
    "\n",
    "# Store the ten most common words\n",
    "top_ten = count.most_common(10)\n",
    "\n",
    "# Print top ten\n",
    "print(top_ten)"
   ]
  }
 ],
 "metadata": {
  "kernelspec": {
   "display_name": "Python 3 (ipykernel)",
   "language": "python",
   "name": "python3"
  },
  "language_info": {
   "codemirror_mode": {
    "name": "ipython",
    "version": 3
   },
   "file_extension": ".py",
   "mimetype": "text/x-python",
   "name": "python",
   "nbconvert_exporter": "python",
   "pygments_lexer": "ipython3",
   "version": "3.10.12"
  }
 },
 "nbformat": 4,
 "nbformat_minor": 5
}
